{
 "cells": [
  {
   "cell_type": "code",
   "execution_count": 1,
   "metadata": {},
   "outputs": [],
   "source": [
    "import pandas as pd \n",
    "import numpy as np\n",
    "import matplotlib.pyplot as plt\n",
    "import seaborn as sns"
   ]
  },
  {
   "cell_type": "code",
   "execution_count": 2,
   "metadata": {},
   "outputs": [],
   "source": [
    "df = pd.read_csv('/Users/nbakhati/Library/CloudStorage/OneDrive-UniversityofNebraskaatOmaha/Fraud Detection/Code/train_id&T.csv')"
   ]
  },
  {
   "cell_type": "markdown",
   "metadata": {},
   "source": [
    "After doing some feature analysis on the EDA side, we will do some feature engineering before model selection by adding new columns."
   ]
  },
  {
   "cell_type": "code",
   "execution_count": 3,
   "metadata": {},
   "outputs": [
    {
     "data": {
      "text/html": [
       "<div>\n",
       "<style scoped>\n",
       "    .dataframe tbody tr th:only-of-type {\n",
       "        vertical-align: middle;\n",
       "    }\n",
       "\n",
       "    .dataframe tbody tr th {\n",
       "        vertical-align: top;\n",
       "    }\n",
       "\n",
       "    .dataframe thead th {\n",
       "        text-align: right;\n",
       "    }\n",
       "</style>\n",
       "<table border=\"1\" class=\"dataframe\">\n",
       "  <thead>\n",
       "    <tr style=\"text-align: right;\">\n",
       "      <th></th>\n",
       "      <th>TransactionAmt_log</th>\n",
       "      <th>card1_freq</th>\n",
       "      <th>card2_freq</th>\n",
       "      <th>TransactionHour</th>\n",
       "      <th>is_US</th>\n",
       "      <th>P_email_cat</th>\n",
       "      <th>R_email_cat</th>\n",
       "    </tr>\n",
       "  </thead>\n",
       "  <tbody>\n",
       "    <tr>\n",
       "      <th>0</th>\n",
       "      <td>4.241327</td>\n",
       "      <td>43</td>\n",
       "      <td>NaN</td>\n",
       "      <td>0</td>\n",
       "      <td>True</td>\n",
       "      <td>missing</td>\n",
       "      <td>missing</td>\n",
       "    </tr>\n",
       "    <tr>\n",
       "      <th>1</th>\n",
       "      <td>3.401197</td>\n",
       "      <td>683</td>\n",
       "      <td>3056.0</td>\n",
       "      <td>0</td>\n",
       "      <td>True</td>\n",
       "      <td>us</td>\n",
       "      <td>missing</td>\n",
       "    </tr>\n",
       "    <tr>\n",
       "      <th>2</th>\n",
       "      <td>4.094345</td>\n",
       "      <td>1108</td>\n",
       "      <td>38145.0</td>\n",
       "      <td>0</td>\n",
       "      <td>True</td>\n",
       "      <td>us</td>\n",
       "      <td>missing</td>\n",
       "    </tr>\n",
       "    <tr>\n",
       "      <th>3</th>\n",
       "      <td>3.931826</td>\n",
       "      <td>4209</td>\n",
       "      <td>6137.0</td>\n",
       "      <td>0</td>\n",
       "      <td>True</td>\n",
       "      <td>us</td>\n",
       "      <td>missing</td>\n",
       "    </tr>\n",
       "    <tr>\n",
       "      <th>4</th>\n",
       "      <td>3.931826</td>\n",
       "      <td>18</td>\n",
       "      <td>14541.0</td>\n",
       "      <td>0</td>\n",
       "      <td>True</td>\n",
       "      <td>us</td>\n",
       "      <td>missing</td>\n",
       "    </tr>\n",
       "  </tbody>\n",
       "</table>\n",
       "</div>"
      ],
      "text/plain": [
       "   TransactionAmt_log  card1_freq  card2_freq  TransactionHour  is_US  \\\n",
       "0            4.241327          43         NaN                0   True   \n",
       "1            3.401197         683      3056.0                0   True   \n",
       "2            4.094345        1108     38145.0                0   True   \n",
       "3            3.931826        4209      6137.0                0   True   \n",
       "4            3.931826          18     14541.0                0   True   \n",
       "\n",
       "  P_email_cat R_email_cat  \n",
       "0     missing     missing  \n",
       "1          us     missing  \n",
       "2          us     missing  \n",
       "3          us     missing  \n",
       "4          us     missing  "
      ]
     },
     "execution_count": 3,
     "metadata": {},
     "output_type": "execute_result"
    }
   ],
   "source": [
    "# Prepare a single script block to add engineered features to the dataset\n",
    "def engineer_features(df):\n",
    "\n",
    "    # Log transformation of transaction amount\n",
    "    df['TransactionAmt_log'] = np.log1p(df['TransactionAmt'])\n",
    "\n",
    "    # Frequency encoding\n",
    "    df['card1_freq'] = df['card1'].map(df['card1'].value_counts())\n",
    "    df['card2_freq'] = df['card2'].map(df['card2'].value_counts())\n",
    "\n",
    "    # Extract hour from TransactionDT\n",
    "    df['TransactionHour'] = (df['TransactionDT'] // 3600) % 24\n",
    "\n",
    "    # US address inference\n",
    "    df['is_US'] = df['addr1'].between(100, 999)\n",
    "\n",
    "    # US email domains\n",
    "    us_domains = [\n",
    "        'gmail.com', 'yahoo.com', 'hotmail.com', 'aol.com', 'outlook.com', 'mail.com',\n",
    "        'comcast.net', 'att.net', 'verizon.net', 'icloud.com', 'live.com', 'ymail.com',\n",
    "        'msn.com', 'sbcglobal.net', 'bellsouth.net', 'me.com', 'optonline.net',\n",
    "        'cox.net', 'charter.net', 'rocketmail.com'\n",
    "    ]\n",
    "\n",
    "    # Domain category mapping function\n",
    "    def map_email_type(domain):\n",
    "        if pd.isna(domain):\n",
    "            return 'missing'\n",
    "        elif domain in us_domains:\n",
    "            return 'us'\n",
    "        elif '.mx' in domain:\n",
    "            return 'mx'\n",
    "        elif '.es' in domain:\n",
    "            return 'es'\n",
    "        elif '.de' in domain:\n",
    "            return 'de'\n",
    "        elif '.co.uk' in domain:\n",
    "            return 'uk'\n",
    "        elif '.co.jp' in domain:\n",
    "            return 'jp'\n",
    "        elif 'protonmail' in domain:\n",
    "            return 'private'\n",
    "        elif domain in ['anonymous.com', 'gmail']:\n",
    "            return 'suspicious'\n",
    "        else:\n",
    "            return 'other'\n",
    "\n",
    "    df['P_email_cat'] = df['P_emaildomain'].apply(map_email_type)\n",
    "    df['R_email_cat'] = df['R_emaildomain'].apply(map_email_type)\n",
    "\n",
    "    return df\n",
    "\n",
    "# Apply feature engineering\n",
    "df = engineer_features(df)\n",
    "\n",
    "# Show updated columns\n",
    "df[['TransactionAmt_log', 'card1_freq', 'card2_freq', 'TransactionHour', 'is_US', 'P_email_cat', 'R_email_cat']].head()\n"
   ]
  },
  {
   "cell_type": "markdown",
   "metadata": {},
   "source": [
    "Dropped Columns Based on Missingness"
   ]
  },
  {
   "cell_type": "code",
   "execution_count": 4,
   "metadata": {},
   "outputs": [],
   "source": [
    "# Calculate missing value percentage\n",
    "missing_percent = df.isnull().mean()\n",
    "\n",
    "# Identify columns to drop (>30% missing)\n",
    "cols_over_30 = missing_percent[missing_percent > 0.3].index.tolist()\n",
    "\n",
    "# Exclude specific columns from being dropped\n",
    "exclude_cols = ['id_30', 'id_31', 'DeviceInfo']\n",
    "\n",
    "cols_over_30 = [col for col in cols_over_30 if col not in exclude_cols]\n",
    "df.drop(columns=cols_over_30, inplace=True)\n"
   ]
  },
  {
   "cell_type": "code",
   "execution_count": 5,
   "metadata": {},
   "outputs": [
    {
     "data": {
      "text/plain": [
       "(0, 0)"
      ]
     },
     "execution_count": 5,
     "metadata": {},
     "output_type": "execute_result"
    }
   ],
   "source": [
    "# Separate numerical and categorical columns\n",
    "num_cols = df.select_dtypes(include=['float64', 'int64']).columns\n",
    "cat_cols = df.select_dtypes(include='object').columns\n",
    "\n",
    "# Impute numeric columns with median\n",
    "df[num_cols] = df[num_cols].fillna(df[num_cols].median())\n",
    "\n",
    "# Impute categorical columns with 'UNK'\n",
    "df[cat_cols] = df[cat_cols].fillna('UNK')\n",
    "\n",
    "# Confirm imputation\n",
    "df[num_cols].isnull().sum().sum(), df[cat_cols].isnull().sum().sum()\n"
   ]
  },
  {
   "cell_type": "code",
   "execution_count": 6,
   "metadata": {},
   "outputs": [
    {
     "data": {
      "text/plain": [
       "<bound method NDFrame.head of         TransactionID  isFraud  TransactionDT  TransactionAmt ProductCD  \\\n",
       "0             2987000        0          86400           68.50         W   \n",
       "1             2987001        0          86401           29.00         W   \n",
       "2             2987002        0          86469           59.00         W   \n",
       "3             2987003        0          86499           50.00         W   \n",
       "4             2987004        0          86506           50.00         H   \n",
       "...               ...      ...            ...             ...       ...   \n",
       "590535        3577535        0       15811047           49.00         W   \n",
       "590536        3577536        0       15811049           39.50         W   \n",
       "590537        3577537        0       15811079           30.95         W   \n",
       "590538        3577538        0       15811088          117.00         W   \n",
       "590539        3577539        0       15811131          279.95         W   \n",
       "\n",
       "        card1  card2  card3       card4  card5  ...        id_30  \\\n",
       "0       13926  361.0  150.0    discover  142.0  ...          UNK   \n",
       "1        2755  404.0  150.0  mastercard  102.0  ...          UNK   \n",
       "2        4663  490.0  150.0        visa  166.0  ...          UNK   \n",
       "3       18132  567.0  150.0  mastercard  117.0  ...          UNK   \n",
       "4        4497  514.0  150.0  mastercard  102.0  ...  Android 7.0   \n",
       "...       ...    ...    ...         ...    ...  ...          ...   \n",
       "590535   6550  361.0  150.0        visa  226.0  ...          UNK   \n",
       "590536  10444  225.0  150.0  mastercard  224.0  ...          UNK   \n",
       "590537  12037  595.0  150.0  mastercard  224.0  ...          UNK   \n",
       "590538   7826  481.0  150.0  mastercard  224.0  ...          UNK   \n",
       "590539  15066  170.0  150.0  mastercard  102.0  ...          UNK   \n",
       "\n",
       "                      id_31                     DeviceInfo TransactionAmt_log  \\\n",
       "0                       UNK                            UNK           4.241327   \n",
       "1                       UNK                            UNK           3.401197   \n",
       "2                       UNK                            UNK           4.094345   \n",
       "3                       UNK                            UNK           3.931826   \n",
       "4       samsung browser 6.2  SAMSUNG SM-G892A Build/NRD90M           3.931826   \n",
       "...                     ...                            ...                ...   \n",
       "590535                  UNK                            UNK           3.912023   \n",
       "590536                  UNK                            UNK           3.701302   \n",
       "590537                  UNK                            UNK           3.464172   \n",
       "590538                  UNK                            UNK           4.770685   \n",
       "590539                  UNK                            UNK           5.638177   \n",
       "\n",
       "        card1_freq  card2_freq  TransactionHour  is_US  P_email_cat  \\\n",
       "0               43     10126.0                0   True      missing   \n",
       "1              683      3056.0                0   True           us   \n",
       "2             1108     38145.0                0   True           us   \n",
       "3             4209      6137.0                0   True           us   \n",
       "4               18     14541.0                0   True           us   \n",
       "...            ...         ...              ...    ...          ...   \n",
       "590535        1183     10126.0               23   True      missing   \n",
       "590536          12      7445.0               23   True           us   \n",
       "590537         690       734.0               23   True           us   \n",
       "590538        3006      6336.0               23   True           us   \n",
       "590539        7945     18214.0               23   True           us   \n",
       "\n",
       "        R_email_cat  \n",
       "0           missing  \n",
       "1           missing  \n",
       "2           missing  \n",
       "3           missing  \n",
       "4           missing  \n",
       "...             ...  \n",
       "590535      missing  \n",
       "590536      missing  \n",
       "590537      missing  \n",
       "590538      missing  \n",
       "590539      missing  \n",
       "\n",
       "[590540 rows x 212 columns]>"
      ]
     },
     "execution_count": 6,
     "metadata": {},
     "output_type": "execute_result"
    }
   ],
   "source": [
    "df.head"
   ]
  },
  {
   "cell_type": "code",
   "execution_count": 7,
   "metadata": {},
   "outputs": [],
   "source": [
    "output_path = \"/Users/nbakhati/Library/CloudStorage/OneDrive-UniversityofNebraskaatOmaha/Fraud Detection/Code/new_fraud_dataset.csv\"\n",
    "df.to_csv(output_path, index=False)"
   ]
  }
 ],
 "metadata": {
  "kernelspec": {
   "display_name": "base",
   "language": "python",
   "name": "python3"
  },
  "language_info": {
   "codemirror_mode": {
    "name": "ipython",
    "version": 3
   },
   "file_extension": ".py",
   "mimetype": "text/x-python",
   "name": "python",
   "nbconvert_exporter": "python",
   "pygments_lexer": "ipython3",
   "version": "3.11.11"
  },
  "orig_nbformat": 4
 },
 "nbformat": 4,
 "nbformat_minor": 2
}
